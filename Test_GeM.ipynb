{
 "cells": [
  {
   "cell_type": "code",
   "execution_count": 1,
   "id": "3d2c609e",
   "metadata": {},
   "outputs": [],
   "source": [
    "import numpy as np\n",
    "import json\n",
    "import pandas as pd\n",
    "from tqdm import trange\n",
    "import argparse\n",
    "from modules.gem import GeM\n",
    "from utils.train_util import set_seed\n",
    "from torch.utils.data import DataLoader\n",
    "from datasets.dl import GeMData\n",
    "from datasets.config import GeMConfig\n",
    "import torch\n",
    "import os\n",
    "from tqdm import tqdm\n",
    "import gc\n",
    "import torch.nn.functional as F\n",
    "from matplotlib import pyplot as plt\n",
    "from IPython.core.interactiveshell import InteractiveShell\n",
    "from sklearn.metrics import roc_auc_score\n",
    "# InteractiveShell.ast_node_interactivity = \"all\""
   ]
  },
  {
   "cell_type": "code",
   "execution_count": 2,
   "id": "936a6ce5",
   "metadata": {},
   "outputs": [],
   "source": [
    "model = GeM(GeMConfig())"
   ]
  },
  {
   "cell_type": "code",
   "execution_count": 3,
   "id": "0a385f84",
   "metadata": {},
   "outputs": [],
   "source": [
    "cfg = GeMConfig()\n",
    "cfg.pic_matrix = np.random.randint(low=0, high=256, size=(1000, 3, 224, 224), dtype=np.uint8)\n",
    "cfg.dataset = np.random.randint(low=0, high=1000, size=(1280, 6))"
   ]
  },
  {
   "cell_type": "code",
   "execution_count": 4,
   "id": "6a9ebd89",
   "metadata": {},
   "outputs": [],
   "source": [
    "train_dataset = GeMData(cfg)\n",
    "train_data_loader = DataLoader(train_dataset, batch_size=32, shuffle=True)\n",
    "input_label = torch.zeros((32), dtype=torch.long).to(0)"
   ]
  },
  {
   "cell_type": "code",
   "execution_count": 5,
   "id": "d65bc558",
   "metadata": {},
   "outputs": [],
   "source": [
    "optimizer = torch.optim.Adam(params=model.parameters(), lr=0.001)"
   ]
  },
  {
   "cell_type": "code",
   "execution_count": 6,
   "id": "ad0573d0",
   "metadata": {},
   "outputs": [
    {
     "data": {
      "text/plain": [
       "GeM(\n",
       "  (resnet): ResNetRaw(\n",
       "    (conv1): Conv2d(3, 64, kernel_size=(7, 7), stride=(2, 2), padding=(3, 3), bias=False)\n",
       "    (bn1): BatchNorm2d(64, eps=1e-05, momentum=0.1, affine=True, track_running_stats=True)\n",
       "    (relu): ReLU(inplace=True)\n",
       "    (maxpool): MaxPool2d(kernel_size=3, stride=2, padding=1, dilation=1, ceil_mode=False)\n",
       "    (layer1): Sequential(\n",
       "      (0): BasicBlock(\n",
       "        (conv1): Conv2d(64, 64, kernel_size=(3, 3), stride=(1, 1), padding=(1, 1), bias=False)\n",
       "        (bn1): BatchNorm2d(64, eps=1e-05, momentum=0.1, affine=True, track_running_stats=True)\n",
       "        (relu): ReLU(inplace=True)\n",
       "        (conv2): Conv2d(64, 64, kernel_size=(3, 3), stride=(1, 1), padding=(1, 1), bias=False)\n",
       "        (bn2): BatchNorm2d(64, eps=1e-05, momentum=0.1, affine=True, track_running_stats=True)\n",
       "      )\n",
       "      (1): BasicBlock(\n",
       "        (conv1): Conv2d(64, 64, kernel_size=(3, 3), stride=(1, 1), padding=(1, 1), bias=False)\n",
       "        (bn1): BatchNorm2d(64, eps=1e-05, momentum=0.1, affine=True, track_running_stats=True)\n",
       "        (relu): ReLU(inplace=True)\n",
       "        (conv2): Conv2d(64, 64, kernel_size=(3, 3), stride=(1, 1), padding=(1, 1), bias=False)\n",
       "        (bn2): BatchNorm2d(64, eps=1e-05, momentum=0.1, affine=True, track_running_stats=True)\n",
       "      )\n",
       "    )\n",
       "    (layer2): Sequential(\n",
       "      (0): BasicBlock(\n",
       "        (conv1): Conv2d(64, 128, kernel_size=(3, 3), stride=(2, 2), padding=(1, 1), bias=False)\n",
       "        (bn1): BatchNorm2d(128, eps=1e-05, momentum=0.1, affine=True, track_running_stats=True)\n",
       "        (relu): ReLU(inplace=True)\n",
       "        (conv2): Conv2d(128, 128, kernel_size=(3, 3), stride=(1, 1), padding=(1, 1), bias=False)\n",
       "        (bn2): BatchNorm2d(128, eps=1e-05, momentum=0.1, affine=True, track_running_stats=True)\n",
       "        (downsample): Sequential(\n",
       "          (0): Conv2d(64, 128, kernel_size=(1, 1), stride=(2, 2), bias=False)\n",
       "          (1): BatchNorm2d(128, eps=1e-05, momentum=0.1, affine=True, track_running_stats=True)\n",
       "        )\n",
       "      )\n",
       "      (1): BasicBlock(\n",
       "        (conv1): Conv2d(128, 128, kernel_size=(3, 3), stride=(1, 1), padding=(1, 1), bias=False)\n",
       "        (bn1): BatchNorm2d(128, eps=1e-05, momentum=0.1, affine=True, track_running_stats=True)\n",
       "        (relu): ReLU(inplace=True)\n",
       "        (conv2): Conv2d(128, 128, kernel_size=(3, 3), stride=(1, 1), padding=(1, 1), bias=False)\n",
       "        (bn2): BatchNorm2d(128, eps=1e-05, momentum=0.1, affine=True, track_running_stats=True)\n",
       "      )\n",
       "    )\n",
       "    (layer3): Sequential(\n",
       "      (0): BasicBlock(\n",
       "        (conv1): Conv2d(128, 256, kernel_size=(3, 3), stride=(2, 2), padding=(1, 1), bias=False)\n",
       "        (bn1): BatchNorm2d(256, eps=1e-05, momentum=0.1, affine=True, track_running_stats=True)\n",
       "        (relu): ReLU(inplace=True)\n",
       "        (conv2): Conv2d(256, 256, kernel_size=(3, 3), stride=(1, 1), padding=(1, 1), bias=False)\n",
       "        (bn2): BatchNorm2d(256, eps=1e-05, momentum=0.1, affine=True, track_running_stats=True)\n",
       "        (downsample): Sequential(\n",
       "          (0): Conv2d(128, 256, kernel_size=(1, 1), stride=(2, 2), bias=False)\n",
       "          (1): BatchNorm2d(256, eps=1e-05, momentum=0.1, affine=True, track_running_stats=True)\n",
       "        )\n",
       "      )\n",
       "      (1): BasicBlock(\n",
       "        (conv1): Conv2d(256, 256, kernel_size=(3, 3), stride=(1, 1), padding=(1, 1), bias=False)\n",
       "        (bn1): BatchNorm2d(256, eps=1e-05, momentum=0.1, affine=True, track_running_stats=True)\n",
       "        (relu): ReLU(inplace=True)\n",
       "        (conv2): Conv2d(256, 256, kernel_size=(3, 3), stride=(1, 1), padding=(1, 1), bias=False)\n",
       "        (bn2): BatchNorm2d(256, eps=1e-05, momentum=0.1, affine=True, track_running_stats=True)\n",
       "      )\n",
       "    )\n",
       "    (layer4): Sequential(\n",
       "      (0): BasicBlock(\n",
       "        (conv1): Conv2d(256, 512, kernel_size=(3, 3), stride=(2, 2), padding=(1, 1), bias=False)\n",
       "        (bn1): BatchNorm2d(512, eps=1e-05, momentum=0.1, affine=True, track_running_stats=True)\n",
       "        (relu): ReLU(inplace=True)\n",
       "        (conv2): Conv2d(512, 512, kernel_size=(3, 3), stride=(1, 1), padding=(1, 1), bias=False)\n",
       "        (bn2): BatchNorm2d(512, eps=1e-05, momentum=0.1, affine=True, track_running_stats=True)\n",
       "        (downsample): Sequential(\n",
       "          (0): Conv2d(256, 512, kernel_size=(1, 1), stride=(2, 2), bias=False)\n",
       "          (1): BatchNorm2d(512, eps=1e-05, momentum=0.1, affine=True, track_running_stats=True)\n",
       "        )\n",
       "      )\n",
       "      (1): BasicBlock(\n",
       "        (conv1): Conv2d(512, 512, kernel_size=(3, 3), stride=(1, 1), padding=(1, 1), bias=False)\n",
       "        (bn1): BatchNorm2d(512, eps=1e-05, momentum=0.1, affine=True, track_running_stats=True)\n",
       "        (relu): ReLU(inplace=True)\n",
       "        (conv2): Conv2d(512, 512, kernel_size=(3, 3), stride=(1, 1), padding=(1, 1), bias=False)\n",
       "        (bn2): BatchNorm2d(512, eps=1e-05, momentum=0.1, affine=True, track_running_stats=True)\n",
       "      )\n",
       "    )\n",
       "    (avgpool): AdaptiveAvgPool2d(output_size=(1, 1))\n",
       "    (fc): Linear(in_features=512, out_features=10, bias=True)\n",
       "  )\n",
       ")"
      ]
     },
     "execution_count": 6,
     "metadata": {},
     "output_type": "execute_result"
    }
   ],
   "source": [
    "model.to(0)"
   ]
  },
  {
   "cell_type": "code",
   "execution_count": 7,
   "id": "33021d5d",
   "metadata": {},
   "outputs": [
    {
     "name": "stderr",
     "output_type": "stream",
     "text": [
      "EP-0 train loss: 3.6042802333831787: 100%|██████████████████████████████████████████████████████████████████████████████████████████████████████████████████| 40/40 [01:32<00:00,  2.32s/it]\n"
     ]
    },
    {
     "name": "stdout",
     "output_type": "stream",
     "text": [
      "epoch 0 end\n"
     ]
    },
    {
     "name": "stderr",
     "output_type": "stream",
     "text": [
      "EP-1 train loss: 1.8992040157318115: 100%|██████████████████████████████████████████████████████████████████████████████████████████████████████████████████| 40/40 [01:28<00:00,  2.22s/it]\n"
     ]
    },
    {
     "name": "stdout",
     "output_type": "stream",
     "text": [
      "epoch 1 end\n"
     ]
    },
    {
     "name": "stderr",
     "output_type": "stream",
     "text": [
      "EP-2 train loss: 1.7387412786483765: 100%|██████████████████████████████████████████████████████████████████████████████████████████████████████████████████| 40/40 [01:28<00:00,  2.21s/it]\n"
     ]
    },
    {
     "name": "stdout",
     "output_type": "stream",
     "text": [
      "epoch 2 end\n"
     ]
    },
    {
     "name": "stderr",
     "output_type": "stream",
     "text": [
      "EP-3 train loss: 1.929336667060852: 100%|███████████████████████████████████████████████████████████████████████████████████████████████████████████████████| 40/40 [01:28<00:00,  2.22s/it]\n"
     ]
    },
    {
     "name": "stdout",
     "output_type": "stream",
     "text": [
      "epoch 3 end\n"
     ]
    },
    {
     "name": "stderr",
     "output_type": "stream",
     "text": [
      "EP-4 train loss: 1.7378977537155151: 100%|██████████████████████████████████████████████████████████████████████████████████████████████████████████████████| 40/40 [01:28<00:00,  2.22s/it]"
     ]
    },
    {
     "name": "stdout",
     "output_type": "stream",
     "text": [
      "epoch 4 end\n"
     ]
    },
    {
     "name": "stderr",
     "output_type": "stream",
     "text": [
      "\n"
     ]
    }
   ],
   "source": [
    "for epoch in range(5):\n",
    "    model.train()\n",
    "    model.zero_grad()\n",
    "    index = 0\n",
    "    steps_one_epoch = len(train_data_loader)\n",
    "    enum_dataloader = tqdm(train_data_loader, total=steps_one_epoch, desc=\"EP-{} train\".format(epoch))\n",
    "    for data in enum_dataloader:\n",
    "    #     if index >= steps_one_epoch:\n",
    "    #         break\n",
    "\n",
    "        data = data / 256.0\n",
    "        data = data.to(0)\n",
    "        pred = model(data, 224)\n",
    "        loss = F.cross_entropy(pred, input_label)\n",
    "\n",
    "        loss.backward()\n",
    "        optimizer.step()\n",
    "        model.zero_grad()\n",
    "\n",
    "        enum_dataloader.set_description(\"EP-{} train loss: {}\".format(epoch, loss))\n",
    "        enum_dataloader.refresh()\n",
    "        index += 1\n",
    "    \n",
    "    print('epoch {} end'.format(epoch))"
   ]
  },
  {
   "cell_type": "code",
   "execution_count": 8,
   "id": "27a2b2ca",
   "metadata": {},
   "outputs": [],
   "source": [
    "# valid dataset\n",
    "vcfg = GeMConfig()\n",
    "vcfg.pic_matrix = np.random.randint(low=0, high=256, size=(1000, 3, 224, 224))\n",
    "dataset1 = np.random.randint(low=0, high=1000, size=(128, 2))\n",
    "dataset_label = np.random.randint(low=0, high=2, size=(128, 1))\n",
    "vcfg.dataset = np.concatenate([dataset1, dataset_label], axis=-1)"
   ]
  },
  {
   "cell_type": "code",
   "execution_count": 9,
   "id": "d9d63b81",
   "metadata": {},
   "outputs": [],
   "source": [
    "valid_dataset = GeMData(vcfg, isValid=True)\n",
    "valid_data_loader = DataLoader(valid_dataset, batch_size=32, shuffle=False)"
   ]
  },
  {
   "cell_type": "code",
   "execution_count": 5,
   "id": "7393787a",
   "metadata": {},
   "outputs": [],
   "source": [
    "# model = GeM(tcfg)"
   ]
  },
  {
   "cell_type": "code",
   "execution_count": 10,
   "id": "d38e7296",
   "metadata": {},
   "outputs": [],
   "source": [
    "model.eval() \n",
    "labels = []\n",
    "preds = []\n",
    "with torch.no_grad():\n",
    "    for data in valid_data_loader:\n",
    "        input_data = data[:, :-1] / 256.0\n",
    "        label_data = data[:, -1]\n",
    "        input_data = input_data.to(0)\n",
    "        res = model(input_data, 224, valid_mode=True)\n",
    "        labels += label_data.cpu().numpy().tolist()\n",
    "        preds += res.cpu().numpy().tolist()"
   ]
  },
  {
   "cell_type": "code",
   "execution_count": 11,
   "id": "7a8fb7d1",
   "metadata": {},
   "outputs": [
    {
     "data": {
      "text/plain": [
       "0.44935160264252505"
      ]
     },
     "execution_count": 11,
     "metadata": {},
     "output_type": "execute_result"
    }
   ],
   "source": [
    "roc_auc_score(labels, preds)"
   ]
  },
  {
   "cell_type": "code",
   "execution_count": 12,
   "id": "ceb44ede",
   "metadata": {},
   "outputs": [],
   "source": [
    "# test dataset\n",
    "tcfg = GeMConfig()\n",
    "tcfg.pic_matrix = np.random.randint(low=0, high=256, size=(1000, 3, 224, 224))\n",
    "tcfg.dataset = np.random.randint(low=0, high=1000, size=(128))"
   ]
  },
  {
   "cell_type": "code",
   "execution_count": 13,
   "id": "bc8fb676",
   "metadata": {},
   "outputs": [],
   "source": [
    "test_dataset = GeMData(tcfg)\n",
    "test_data_loader = DataLoader(test_dataset, batch_size=32, shuffle=False)"
   ]
  },
  {
   "cell_type": "code",
   "execution_count": 14,
   "id": "3d9fe716",
   "metadata": {},
   "outputs": [
    {
     "name": "stdout",
     "output_type": "stream",
     "text": [
      "torch.Size([32, 3, 224, 224])\n",
      "torch.Size([32, 512])\n",
      "torch.Size([32, 3, 224, 224])\n",
      "torch.Size([32, 512])\n",
      "torch.Size([32, 3, 224, 224])\n",
      "torch.Size([32, 512])\n",
      "torch.Size([32, 3, 224, 224])\n",
      "torch.Size([32, 512])\n"
     ]
    }
   ],
   "source": [
    "model.eval() \n",
    "preds = []\n",
    "with torch.no_grad():\n",
    "    for data in test_data_loader:\n",
    "        input_data = data / 256.0\n",
    "        print(data.size())\n",
    "        input_data = input_data.to(0)\n",
    "        res = model.predict(input_data, 224)\n",
    "        print(res.size())"
   ]
  },
  {
   "cell_type": "code",
   "execution_count": null,
   "id": "56a15229",
   "metadata": {},
   "outputs": [],
   "source": []
  }
 ],
 "metadata": {
  "kernelspec": {
   "display_name": "Python 3 (ipykernel)",
   "language": "python",
   "name": "python3"
  },
  "language_info": {
   "codemirror_mode": {
    "name": "ipython",
    "version": 3
   },
   "file_extension": ".py",
   "mimetype": "text/x-python",
   "name": "python",
   "nbconvert_exporter": "python",
   "pygments_lexer": "ipython3",
   "version": "3.9.7"
  }
 },
 "nbformat": 4,
 "nbformat_minor": 5
}
