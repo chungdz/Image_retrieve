{
 "cells": [
  {
   "cell_type": "code",
   "execution_count": 1,
   "id": "26342d3a",
   "metadata": {},
   "outputs": [],
   "source": [
    "import numpy as np\n",
    "import json\n",
    "import pandas as pd\n",
    "from tqdm import trange\n",
    "import argparse\n",
    "from modules.gem import GeM\n",
    "from utils.train_util import set_seed\n",
    "from torch.utils.data import DataLoader\n",
    "from datasets.dl import GeMData\n",
    "from datasets.config import GeMConfig\n",
    "import torch\n",
    "import os\n",
    "from tqdm import tqdm\n",
    "import gc\n",
    "import torch.nn.functional as F\n",
    "from matplotlib import pyplot as plt\n",
    "from IPython.core.interactiveshell import InteractiveShell\n",
    "from sklearn.metrics import roc_auc_score\n",
    "# InteractiveShell.ast_node_interactivity = \"all\""
   ]
  },
  {
   "cell_type": "code",
   "execution_count": 2,
   "id": "5b3b6630",
   "metadata": {},
   "outputs": [
    {
     "name": "stderr",
     "output_type": "stream",
     "text": [
      "Downloading: \"https://download.pytorch.org/models/resnet50-0676ba61.pth\" to /home/azon/.cache/torch/hub/checkpoints/resnet50-0676ba61.pth\n"
     ]
    },
    {
     "data": {
      "application/vnd.jupyter.widget-view+json": {
       "model_id": "b75ae9114df44770a928e057fc049588",
       "version_major": 2,
       "version_minor": 0
      },
      "text/plain": [
       "  0%|          | 0.00/97.8M [00:00<?, ?B/s]"
      ]
     },
     "metadata": {},
     "output_type": "display_data"
    },
    {
     "name": "stdout",
     "output_type": "stream",
     "text": [
      "Load resnet50 pre-trained parameters from pytorch <All keys matched successfully>\n"
     ]
    }
   ],
   "source": [
    "mi = GeMConfig()\n",
    "mi.arch = 'resnet50'\n",
    "model = GeM(mi)"
   ]
  },
  {
   "cell_type": "code",
   "execution_count": 3,
   "id": "1b73d138",
   "metadata": {},
   "outputs": [],
   "source": [
    "# pic_matrix = torch.ByteTensor(np.load(\"data/imageset_small.npy\"))\n",
    "pic_matrix = torch.ByteTensor(np.random.randint(low=0, high=255, size=(1000, 3, 64, 64)))\n",
    "dataset = torch.LongTensor(np.random.randint(low=0, high=1000, size=(1280, 6)))"
   ]
  },
  {
   "cell_type": "code",
   "execution_count": 4,
   "id": "b40198eb",
   "metadata": {},
   "outputs": [],
   "source": [
    "train_dataset = GeMData(pic_matrix, dataset)\n",
    "train_data_loader = DataLoader(train_dataset, batch_size=32, shuffle=True)\n",
    "# input_label = torch.zeros((32), dtype=torch.long).to(0)\n",
    "input_label = torch.zeros((32), dtype=torch.long)"
   ]
  },
  {
   "cell_type": "code",
   "execution_count": 5,
   "id": "ec8ea382",
   "metadata": {},
   "outputs": [],
   "source": [
    "optimizer = torch.optim.Adam(params=model.parameters(), lr=0.0001)"
   ]
  },
  {
   "cell_type": "code",
   "execution_count": 6,
   "id": "10dec2a0",
   "metadata": {},
   "outputs": [],
   "source": [
    "# model.to(0)"
   ]
  },
  {
   "cell_type": "code",
   "execution_count": 7,
   "id": "c2ab29e6",
   "metadata": {},
   "outputs": [
    {
     "name": "stderr",
     "output_type": "stream",
     "text": [
      "\r",
      "EP-0 train:   0%|                                                                                | 0/40 [00:00<?, ?it/s]"
     ]
    },
    {
     "name": "stdout",
     "output_type": "stream",
     "text": [
      "torch.Size([32, 2048, 2, 2])\n"
     ]
    },
    {
     "name": "stderr",
     "output_type": "stream",
     "text": [
      "EP-0 train loss: 1.6114164590835571:   2%|█▏                                             | 1/40 [00:03<02:13,  3.43s/it]"
     ]
    },
    {
     "name": "stdout",
     "output_type": "stream",
     "text": [
      "torch.Size([32, 2048, 2, 2])\n"
     ]
    },
    {
     "name": "stderr",
     "output_type": "stream",
     "text": [
      "EP-0 train loss: 1.6068360805511475:   5%|██▎                                            | 2/40 [00:06<02:09,  3.41s/it]"
     ]
    },
    {
     "name": "stdout",
     "output_type": "stream",
     "text": [
      "torch.Size([32, 2048, 2, 2])\n"
     ]
    },
    {
     "name": "stderr",
     "output_type": "stream",
     "text": [
      "EP-0 train loss: 1.612605333328247:   8%|███▌                                            | 3/40 [00:10<02:08,  3.46s/it]"
     ]
    },
    {
     "name": "stdout",
     "output_type": "stream",
     "text": [
      "torch.Size([32, 2048, 2, 2])\n"
     ]
    },
    {
     "name": "stderr",
     "output_type": "stream",
     "text": [
      "EP-0 train loss: 1.612605333328247:   8%|███▌                                            | 3/40 [00:13<02:49,  4.57s/it]\n"
     ]
    },
    {
     "ename": "KeyboardInterrupt",
     "evalue": "",
     "output_type": "error",
     "traceback": [
      "\u001b[0;31m---------------------------------------------------------------------------\u001b[0m",
      "\u001b[0;31mKeyboardInterrupt\u001b[0m                         Traceback (most recent call last)",
      "\u001b[0;32m/tmp/ipykernel_1724/1945697537.py\u001b[0m in \u001b[0;36m<module>\u001b[0;34m\u001b[0m\n\u001b[1;32m     16\u001b[0m         \u001b[0mloss_list\u001b[0m\u001b[0;34m.\u001b[0m\u001b[0mappend\u001b[0m\u001b[0;34m(\u001b[0m\u001b[0mloss\u001b[0m\u001b[0;34m)\u001b[0m\u001b[0;34m\u001b[0m\u001b[0;34m\u001b[0m\u001b[0m\n\u001b[1;32m     17\u001b[0m \u001b[0;34m\u001b[0m\u001b[0m\n\u001b[0;32m---> 18\u001b[0;31m         \u001b[0mloss\u001b[0m\u001b[0;34m.\u001b[0m\u001b[0mbackward\u001b[0m\u001b[0;34m(\u001b[0m\u001b[0;34m)\u001b[0m\u001b[0;34m\u001b[0m\u001b[0;34m\u001b[0m\u001b[0m\n\u001b[0m\u001b[1;32m     19\u001b[0m         \u001b[0moptimizer\u001b[0m\u001b[0;34m.\u001b[0m\u001b[0mstep\u001b[0m\u001b[0;34m(\u001b[0m\u001b[0;34m)\u001b[0m\u001b[0;34m\u001b[0m\u001b[0;34m\u001b[0m\u001b[0m\n\u001b[1;32m     20\u001b[0m         \u001b[0mmodel\u001b[0m\u001b[0;34m.\u001b[0m\u001b[0mzero_grad\u001b[0m\u001b[0;34m(\u001b[0m\u001b[0;34m)\u001b[0m\u001b[0;34m\u001b[0m\u001b[0;34m\u001b[0m\u001b[0m\n",
      "\u001b[0;32m~/anaconda3/envs/coen344/lib/python3.9/site-packages/torch/_tensor.py\u001b[0m in \u001b[0;36mbackward\u001b[0;34m(self, gradient, retain_graph, create_graph, inputs)\u001b[0m\n\u001b[1;32m    305\u001b[0m                 \u001b[0mcreate_graph\u001b[0m\u001b[0;34m=\u001b[0m\u001b[0mcreate_graph\u001b[0m\u001b[0;34m,\u001b[0m\u001b[0;34m\u001b[0m\u001b[0;34m\u001b[0m\u001b[0m\n\u001b[1;32m    306\u001b[0m                 inputs=inputs)\n\u001b[0;32m--> 307\u001b[0;31m         \u001b[0mtorch\u001b[0m\u001b[0;34m.\u001b[0m\u001b[0mautograd\u001b[0m\u001b[0;34m.\u001b[0m\u001b[0mbackward\u001b[0m\u001b[0;34m(\u001b[0m\u001b[0mself\u001b[0m\u001b[0;34m,\u001b[0m \u001b[0mgradient\u001b[0m\u001b[0;34m,\u001b[0m \u001b[0mretain_graph\u001b[0m\u001b[0;34m,\u001b[0m \u001b[0mcreate_graph\u001b[0m\u001b[0;34m,\u001b[0m \u001b[0minputs\u001b[0m\u001b[0;34m=\u001b[0m\u001b[0minputs\u001b[0m\u001b[0;34m)\u001b[0m\u001b[0;34m\u001b[0m\u001b[0;34m\u001b[0m\u001b[0m\n\u001b[0m\u001b[1;32m    308\u001b[0m \u001b[0;34m\u001b[0m\u001b[0m\n\u001b[1;32m    309\u001b[0m     \u001b[0;32mdef\u001b[0m \u001b[0mregister_hook\u001b[0m\u001b[0;34m(\u001b[0m\u001b[0mself\u001b[0m\u001b[0;34m,\u001b[0m \u001b[0mhook\u001b[0m\u001b[0;34m)\u001b[0m\u001b[0;34m:\u001b[0m\u001b[0;34m\u001b[0m\u001b[0;34m\u001b[0m\u001b[0m\n",
      "\u001b[0;32m~/anaconda3/envs/coen344/lib/python3.9/site-packages/torch/autograd/__init__.py\u001b[0m in \u001b[0;36mbackward\u001b[0;34m(tensors, grad_tensors, retain_graph, create_graph, grad_variables, inputs)\u001b[0m\n\u001b[1;32m    152\u001b[0m         \u001b[0mretain_graph\u001b[0m \u001b[0;34m=\u001b[0m \u001b[0mcreate_graph\u001b[0m\u001b[0;34m\u001b[0m\u001b[0;34m\u001b[0m\u001b[0m\n\u001b[1;32m    153\u001b[0m \u001b[0;34m\u001b[0m\u001b[0m\n\u001b[0;32m--> 154\u001b[0;31m     Variable._execution_engine.run_backward(\n\u001b[0m\u001b[1;32m    155\u001b[0m         \u001b[0mtensors\u001b[0m\u001b[0;34m,\u001b[0m \u001b[0mgrad_tensors_\u001b[0m\u001b[0;34m,\u001b[0m \u001b[0mretain_graph\u001b[0m\u001b[0;34m,\u001b[0m \u001b[0mcreate_graph\u001b[0m\u001b[0;34m,\u001b[0m \u001b[0minputs\u001b[0m\u001b[0;34m,\u001b[0m\u001b[0;34m\u001b[0m\u001b[0;34m\u001b[0m\u001b[0m\n\u001b[1;32m    156\u001b[0m         allow_unreachable=True, accumulate_grad=True)  # allow_unreachable flag\n",
      "\u001b[0;31mKeyboardInterrupt\u001b[0m: "
     ]
    }
   ],
   "source": [
    "for epoch in range(5):\n",
    "    model.train()\n",
    "    model.zero_grad()\n",
    "    index = 0\n",
    "    steps_one_epoch = len(train_data_loader)\n",
    "    enum_dataloader = tqdm(train_data_loader, total=steps_one_epoch, desc=\"EP-{} train\".format(epoch))\n",
    "    loss_list = []\n",
    "    for data in enum_dataloader:\n",
    "    #     if index >= steps_one_epoch:\n",
    "    #         break\n",
    "\n",
    "        data = data / 255.0\n",
    "#         data = data.to(0)\n",
    "        pred = model(data, 64)\n",
    "        loss = F.cross_entropy(pred, input_label)\n",
    "        loss_list.append(loss)\n",
    "\n",
    "        loss.backward()\n",
    "        optimizer.step()\n",
    "        model.zero_grad()\n",
    "\n",
    "        enum_dataloader.set_description(\"EP-{} train loss: {}\".format(epoch, loss))\n",
    "        enum_dataloader.refresh()\n",
    "        index += 1\n",
    "    \n",
    "    print('epoch {} end'.format(epoch))\n",
    "#     print(loss_list)"
   ]
  },
  {
   "cell_type": "code",
   "execution_count": 15,
   "id": "1665b917",
   "metadata": {},
   "outputs": [],
   "source": [
    "# valid dataset\n",
    "dataset1 = np.random.randint(low=0, high=1000, size=(128, 2))\n",
    "dataset_label = np.random.randint(low=0, high=2, size=(128, 1))\n",
    "vdataset = torch.LongTensor(np.concatenate([dataset1, dataset_label], axis=-1))"
   ]
  },
  {
   "cell_type": "code",
   "execution_count": 16,
   "id": "c3abd767",
   "metadata": {},
   "outputs": [],
   "source": [
    "valid_dataset = GeMData(pic_matrix, vdataset, isValid=True)\n",
    "valid_data_loader = DataLoader(valid_dataset, batch_size=32, shuffle=False)"
   ]
  },
  {
   "cell_type": "code",
   "execution_count": 17,
   "id": "299c746e",
   "metadata": {},
   "outputs": [],
   "source": [
    "model.eval() \n",
    "labels = []\n",
    "preds = []\n",
    "with torch.no_grad():\n",
    "    for data in valid_data_loader:\n",
    "        input_data = data[:, :-1] / 256.0\n",
    "        label_data = data[:, -1]\n",
    "        input_data = input_data.to(0)\n",
    "        res = model(input_data, 224, valid_mode=True)\n",
    "        labels += label_data.cpu().numpy().tolist()\n",
    "        preds += res.cpu().numpy().tolist()"
   ]
  },
  {
   "cell_type": "code",
   "execution_count": 18,
   "id": "928f375c",
   "metadata": {},
   "outputs": [
    {
     "data": {
      "text/plain": [
       "0.484004884004884"
      ]
     },
     "execution_count": 18,
     "metadata": {},
     "output_type": "execute_result"
    }
   ],
   "source": [
    "roc_auc_score(labels, preds)"
   ]
  },
  {
   "cell_type": "code",
   "execution_count": 12,
   "id": "0aff1cfe",
   "metadata": {},
   "outputs": [],
   "source": [
    "# test dataset\n",
    "\n",
    "pic_matrix = torch.ByteTensor(np.random.randint(low=0, high=256, size=(1000, 3, 224, 224)))\n",
    "tdataset = np.random.randint(low=0, high=1000, size=(128))"
   ]
  },
  {
   "cell_type": "code",
   "execution_count": 13,
   "id": "c7bb76ea",
   "metadata": {},
   "outputs": [],
   "source": [
    "test_dataset = GeMData(tcfg)\n",
    "test_data_loader = DataLoader(test_dataset, batch_size=32, shuffle=False)"
   ]
  },
  {
   "cell_type": "code",
   "execution_count": 14,
   "id": "bbea6dbe",
   "metadata": {},
   "outputs": [
    {
     "name": "stdout",
     "output_type": "stream",
     "text": [
      "torch.Size([32, 3, 224, 224])\n",
      "torch.Size([32, 512])\n",
      "torch.Size([32, 3, 224, 224])\n",
      "torch.Size([32, 512])\n",
      "torch.Size([32, 3, 224, 224])\n",
      "torch.Size([32, 512])\n",
      "torch.Size([32, 3, 224, 224])\n",
      "torch.Size([32, 512])\n"
     ]
    }
   ],
   "source": [
    "model.eval() \n",
    "preds = []\n",
    "with torch.no_grad():\n",
    "    for data in test_data_loader:\n",
    "        input_data = data / 256.0\n",
    "        print(data.size())\n",
    "        input_data = input_data.to(0)\n",
    "        res = model.predict(input_data, 224)\n",
    "        print(res.size())"
   ]
  },
  {
   "cell_type": "code",
   "execution_count": null,
   "id": "4ee194a5",
   "metadata": {},
   "outputs": [],
   "source": []
  }
 ],
 "metadata": {
  "kernelspec": {
   "display_name": "Python 3 (ipykernel)",
   "language": "python",
   "name": "python3"
  },
  "language_info": {
   "codemirror_mode": {
    "name": "ipython",
    "version": 3
   },
   "file_extension": ".py",
   "mimetype": "text/x-python",
   "name": "python",
   "nbconvert_exporter": "python",
   "pygments_lexer": "ipython3",
   "version": "3.9.7"
  }
 },
 "nbformat": 4,
 "nbformat_minor": 5
}
