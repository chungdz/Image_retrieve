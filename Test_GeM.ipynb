{
 "cells": [
  {
   "cell_type": "code",
   "execution_count": 1,
   "id": "26342d3a",
   "metadata": {},
   "outputs": [],
   "source": [
    "import numpy as np\n",
    "import json\n",
    "import pandas as pd\n",
    "from tqdm import trange\n",
    "import argparse\n",
    "from modules.gem import GeM\n",
    "from utils.train_util import set_seed\n",
    "from torch.utils.data import DataLoader\n",
    "from datasets.dl import GeMData\n",
    "from datasets.config import GeMConfig\n",
    "import torch\n",
    "import os\n",
    "from tqdm import tqdm\n",
    "import gc\n",
    "import torch.nn.functional as F\n",
    "from matplotlib import pyplot as plt\n",
    "from IPython.core.interactiveshell import InteractiveShell\n",
    "from sklearn.metrics import roc_auc_score\n",
    "# InteractiveShell.ast_node_interactivity = \"all\""
   ]
  },
  {
   "cell_type": "code",
   "execution_count": 2,
   "id": "5b3b6630",
   "metadata": {},
   "outputs": [],
   "source": [
    "model = GeM(GeMConfig())"
   ]
  },
  {
   "cell_type": "code",
   "execution_count": 3,
   "id": "1b73d138",
   "metadata": {},
   "outputs": [],
   "source": [
    "pic_matrix = torch.ByteTensor(np.load(\"data/imageset_small.npy\"))\n",
    "dataset = torch.LongTensor(np.random.randint(low=0, high=1000, size=(1280, 6)))"
   ]
  },
  {
   "cell_type": "code",
   "execution_count": 4,
   "id": "b40198eb",
   "metadata": {},
   "outputs": [],
   "source": [
    "train_dataset = GeMData(pic_matrix, dataset)\n",
    "train_data_loader = DataLoader(train_dataset, batch_size=32, shuffle=True)\n",
    "# input_label = torch.zeros((32), dtype=torch.long).to(0)\n",
    "input_label = torch.zeros((32), dtype=torch.long)"
   ]
  },
  {
   "cell_type": "code",
   "execution_count": 5,
   "id": "ec8ea382",
   "metadata": {},
   "outputs": [],
   "source": [
    "optimizer = torch.optim.Adam(params=model.parameters(), lr=0.0001)"
   ]
  },
  {
   "cell_type": "code",
   "execution_count": 6,
   "id": "10dec2a0",
   "metadata": {},
   "outputs": [],
   "source": [
    "# model.to(0)"
   ]
  },
  {
   "cell_type": "code",
   "execution_count": null,
   "id": "c2ab29e6",
   "metadata": {},
   "outputs": [
    {
     "name": "stderr",
     "output_type": "stream",
     "text": [
      "EP-0 train loss: 68.14183807373047:  10%|██████████▋                                                                                                | 4/40 [00:46<07:00, 11.67s/it]"
     ]
    }
   ],
   "source": [
    "for epoch in range(5):\n",
    "    model.train()\n",
    "    model.zero_grad()\n",
    "    index = 0\n",
    "    steps_one_epoch = len(train_data_loader)\n",
    "    enum_dataloader = tqdm(train_data_loader, total=steps_one_epoch, desc=\"EP-{} train\".format(epoch))\n",
    "    loss_list = []\n",
    "    for data in enum_dataloader:\n",
    "    #     if index >= steps_one_epoch:\n",
    "    #         break\n",
    "\n",
    "        data = data / 255.0\n",
    "#         data = data.to(0)\n",
    "        pred = model(data, 224)\n",
    "        loss = F.cross_entropy(pred, input_label)\n",
    "        loss_list.append(loss)\n",
    "\n",
    "        loss.backward()\n",
    "        optimizer.step()\n",
    "        model.zero_grad()\n",
    "\n",
    "        enum_dataloader.set_description(\"EP-{} train loss: {}\".format(epoch, loss))\n",
    "        enum_dataloader.refresh()\n",
    "        index += 1\n",
    "    \n",
    "    print('epoch {} end'.format(epoch))\n",
    "    print(loss_list)"
   ]
  },
  {
   "cell_type": "code",
   "execution_count": 15,
   "id": "1665b917",
   "metadata": {},
   "outputs": [],
   "source": [
    "# valid dataset\n",
    "dataset1 = np.random.randint(low=0, high=1000, size=(128, 2))\n",
    "dataset_label = np.random.randint(low=0, high=2, size=(128, 1))\n",
    "vdataset = torch.LongTensor(np.concatenate([dataset1, dataset_label], axis=-1))"
   ]
  },
  {
   "cell_type": "code",
   "execution_count": 16,
   "id": "c3abd767",
   "metadata": {},
   "outputs": [],
   "source": [
    "valid_dataset = GeMData(pic_matrix, vdataset, isValid=True)\n",
    "valid_data_loader = DataLoader(valid_dataset, batch_size=32, shuffle=False)"
   ]
  },
  {
   "cell_type": "code",
   "execution_count": 17,
   "id": "299c746e",
   "metadata": {},
   "outputs": [],
   "source": [
    "model.eval() \n",
    "labels = []\n",
    "preds = []\n",
    "with torch.no_grad():\n",
    "    for data in valid_data_loader:\n",
    "        input_data = data[:, :-1] / 256.0\n",
    "        label_data = data[:, -1]\n",
    "        input_data = input_data.to(0)\n",
    "        res = model(input_data, 224, valid_mode=True)\n",
    "        labels += label_data.cpu().numpy().tolist()\n",
    "        preds += res.cpu().numpy().tolist()"
   ]
  },
  {
   "cell_type": "code",
   "execution_count": 18,
   "id": "928f375c",
   "metadata": {},
   "outputs": [
    {
     "data": {
      "text/plain": [
       "0.484004884004884"
      ]
     },
     "execution_count": 18,
     "metadata": {},
     "output_type": "execute_result"
    }
   ],
   "source": [
    "roc_auc_score(labels, preds)"
   ]
  },
  {
   "cell_type": "code",
   "execution_count": 12,
   "id": "0aff1cfe",
   "metadata": {},
   "outputs": [],
   "source": [
    "# test dataset\n",
    "\n",
    "pic_matrix = torch.ByteTensor(np.random.randint(low=0, high=256, size=(1000, 3, 224, 224)))\n",
    "tdataset = np.random.randint(low=0, high=1000, size=(128))"
   ]
  },
  {
   "cell_type": "code",
   "execution_count": 13,
   "id": "c7bb76ea",
   "metadata": {},
   "outputs": [],
   "source": [
    "test_dataset = GeMData(tcfg)\n",
    "test_data_loader = DataLoader(test_dataset, batch_size=32, shuffle=False)"
   ]
  },
  {
   "cell_type": "code",
   "execution_count": 14,
   "id": "bbea6dbe",
   "metadata": {},
   "outputs": [
    {
     "name": "stdout",
     "output_type": "stream",
     "text": [
      "torch.Size([32, 3, 224, 224])\n",
      "torch.Size([32, 512])\n",
      "torch.Size([32, 3, 224, 224])\n",
      "torch.Size([32, 512])\n",
      "torch.Size([32, 3, 224, 224])\n",
      "torch.Size([32, 512])\n",
      "torch.Size([32, 3, 224, 224])\n",
      "torch.Size([32, 512])\n"
     ]
    }
   ],
   "source": [
    "model.eval() \n",
    "preds = []\n",
    "with torch.no_grad():\n",
    "    for data in test_data_loader:\n",
    "        input_data = data / 256.0\n",
    "        print(data.size())\n",
    "        input_data = input_data.to(0)\n",
    "        res = model.predict(input_data, 224)\n",
    "        print(res.size())"
   ]
  },
  {
   "cell_type": "code",
   "execution_count": null,
   "id": "4ee194a5",
   "metadata": {},
   "outputs": [],
   "source": []
  }
 ],
 "metadata": {
  "kernelspec": {
   "display_name": "Python 3 (ipykernel)",
   "language": "python",
   "name": "python3"
  },
  "language_info": {
   "codemirror_mode": {
    "name": "ipython",
    "version": 3
   },
   "file_extension": ".py",
   "mimetype": "text/x-python",
   "name": "python",
   "nbconvert_exporter": "python",
   "pygments_lexer": "ipython3",
   "version": "3.9.7"
  }
 },
 "nbformat": 4,
 "nbformat_minor": 5
}
