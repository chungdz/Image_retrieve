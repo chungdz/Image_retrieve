{
 "cells": [
  {
   "cell_type": "code",
   "execution_count": 1,
   "id": "d7e47b2b",
   "metadata": {},
   "outputs": [],
   "source": [
    "import numpy as np\n",
    "import json\n",
    "import pandas as pd\n",
    "from tqdm import trange\n",
    "import argparse\n",
    "from modules.classical_multi import MultiVgg, MultiResNet\n",
    "from utils.train_util import set_seed\n",
    "from torch.utils.data import DataLoader\n",
    "from datasets.dl import FNNData\n",
    "from datasets.config import ModelConfig\n",
    "import torch\n",
    "import os\n",
    "from tqdm import tqdm\n",
    "import gc\n",
    "import torch.nn.functional as F\n",
    "from matplotlib import pyplot as plt"
   ]
  },
  {
   "cell_type": "code",
   "execution_count": null,
   "id": "26659953",
   "metadata": {},
   "outputs": [],
   "source": [
    "input_data = torch.randint(low=0, high=256, size=(32, 6, 3, 224, 224))"
   ]
  },
  {
   "cell_type": "code",
   "execution_count": null,
   "id": "133b21b3",
   "metadata": {},
   "outputs": [],
   "source": [
    "pic1 = input_data[0, 0].numpy()\n",
    "print(pic1.shape)\n",
    "img = pic1.transpose(1, 2, 0)\n",
    "plt.imshow(img)\n",
    "plt.show()"
   ]
  },
  {
   "cell_type": "code",
   "execution_count": null,
   "id": "d59adcc4",
   "metadata": {},
   "outputs": [],
   "source": [
    "input_data = input_data / 255.0"
   ]
  },
  {
   "cell_type": "code",
   "execution_count": null,
   "id": "652512ab",
   "metadata": {},
   "outputs": [],
   "source": [
    "# model = MultiVgg(ModelConfig())\n",
    "model = MultiResNet(ModelConfig())"
   ]
  },
  {
   "cell_type": "code",
   "execution_count": null,
   "id": "10e447c5",
   "metadata": {},
   "outputs": [],
   "source": [
    "res = model(input_data)"
   ]
  },
  {
   "cell_type": "code",
   "execution_count": null,
   "id": "068d6ab5",
   "metadata": {},
   "outputs": [],
   "source": [
    "res.shape"
   ]
  },
  {
   "cell_type": "code",
   "execution_count": null,
   "id": "27e1ec99",
   "metadata": {},
   "outputs": [],
   "source": [
    "input_label = torch.zeros((32), dtype=torch.long)"
   ]
  },
  {
   "cell_type": "code",
   "execution_count": null,
   "id": "59c34e00",
   "metadata": {},
   "outputs": [],
   "source": [
    "loss = F.cross_entropy(res, input_label)"
   ]
  },
  {
   "cell_type": "code",
   "execution_count": null,
   "id": "00a7d32d",
   "metadata": {},
   "outputs": [],
   "source": [
    "loss"
   ]
  },
  {
   "cell_type": "code",
   "execution_count": 2,
   "id": "e52b5d8a",
   "metadata": {},
   "outputs": [],
   "source": [
    "# train dataset\n",
    "cfg = ModelConfig()\n",
    "cfg.pic_matrix = np.random.randint(low=0, high=256, size=(1000, 3, 224, 224))\n",
    "cfg.dataset = np.random.randint(low=0, high=1000, size=(128, 6))"
   ]
  },
  {
   "cell_type": "code",
   "execution_count": 5,
   "id": "5355e70a",
   "metadata": {},
   "outputs": [],
   "source": [
    "train_dataset = FNNData(cfg)\n",
    "train_data_loader = DataLoader(train_dataset, batch_size=32, shuffle=True)\n",
    "input_label = torch.zeros((32), dtype=torch.long)"
   ]
  },
  {
   "cell_type": "code",
   "execution_count": 4,
   "id": "52bf7b29",
   "metadata": {},
   "outputs": [],
   "source": [
    "model = MultiResNet(ModelConfig())\n",
    "optimizer = torch.optim.Adam(params=model.parameters(), lr=0.001)"
   ]
  },
  {
   "cell_type": "code",
   "execution_count": 6,
   "id": "0537aa30",
   "metadata": {},
   "outputs": [
    {
     "name": "stderr",
     "output_type": "stream",
     "text": [
      "EP-0 train loss: 2.0157570838928223: 100%|████████████████████████████████████████████████| 4/4 [02:26<00:00, 36.52s/it]\n"
     ]
    },
    {
     "name": "stdout",
     "output_type": "stream",
     "text": [
      "epoch 0 end\n"
     ]
    },
    {
     "name": "stderr",
     "output_type": "stream",
     "text": [
      "EP-1 train loss: 1.390627384185791: 100%|█████████████████████████████████████████████████| 4/4 [00:47<00:00, 11.91s/it]\n"
     ]
    },
    {
     "name": "stdout",
     "output_type": "stream",
     "text": [
      "epoch 1 end\n"
     ]
    },
    {
     "name": "stderr",
     "output_type": "stream",
     "text": [
      "EP-2 train loss: 1.5587198734283447: 100%|████████████████████████████████████████████████| 4/4 [01:55<00:00, 28.83s/it]"
     ]
    },
    {
     "name": "stdout",
     "output_type": "stream",
     "text": [
      "epoch 2 end\n"
     ]
    },
    {
     "name": "stderr",
     "output_type": "stream",
     "text": [
      "\n"
     ]
    }
   ],
   "source": [
    "for epoch in range(3):\n",
    "    model.train()\n",
    "    model.zero_grad()\n",
    "    index = 0\n",
    "    steps_one_epoch = len(train_data_loader)\n",
    "    enum_dataloader = tqdm(train_data_loader, total=steps_one_epoch, desc=\"EP-{} train\".format(epoch))\n",
    "    for data in enum_dataloader:\n",
    "    #     if index >= steps_one_epoch:\n",
    "    #         break\n",
    "\n",
    "        data = data / 256.0\n",
    "        pred = model(data)\n",
    "        loss = F.cross_entropy(pred, input_label)\n",
    "\n",
    "        loss.backward()\n",
    "        optimizer.step()\n",
    "        model.zero_grad()\n",
    "\n",
    "        enum_dataloader.set_description(\"EP-{} train loss: {}\".format(epoch, loss))\n",
    "        enum_dataloader.refresh()\n",
    "        index += 1\n",
    "    \n",
    "    print('epoch {} end'.format(epoch))"
   ]
  },
  {
   "cell_type": "code",
   "execution_count": 7,
   "id": "781b1b26",
   "metadata": {},
   "outputs": [],
   "source": [
    "# test dataset\n",
    "tcfg = ModelConfig()\n",
    "tcfg.pic_matrix = np.random.randint(low=0, high=256, size=(1000, 3, 224, 224))\n",
    "tcfg.dataset = np.random.randint(low=0, high=1000, size=(128, 11))"
   ]
  },
  {
   "cell_type": "code",
   "execution_count": 11,
   "id": "cac14c93",
   "metadata": {},
   "outputs": [],
   "source": [
    "valid_dataset = FNNData(tcfg, isValidation=True)\n",
    "valid_data_loader = DataLoader(valid_dataset, batch_size=32, shuffle=False)"
   ]
  },
  {
   "cell_type": "code",
   "execution_count": null,
   "id": "784acbc0",
   "metadata": {},
   "outputs": [],
   "source": [
    "model = MultiResNet(ModelConfig())"
   ]
  },
  {
   "cell_type": "code",
   "execution_count": 12,
   "id": "183f1d60",
   "metadata": {},
   "outputs": [
    {
     "name": "stdout",
     "output_type": "stream",
     "text": [
      "torch.Size([32, 150538])\n",
      "torch.Size([32, 3, 224, 224]) torch.Size([32, 10])\n",
      "torch.Size([32, 100])\n",
      "torch.Size([32, 150538])\n",
      "torch.Size([32, 3, 224, 224]) torch.Size([32, 10])\n",
      "torch.Size([32, 100])\n",
      "torch.Size([32, 150538])\n",
      "torch.Size([32, 3, 224, 224]) torch.Size([32, 10])\n",
      "torch.Size([32, 100])\n",
      "torch.Size([32, 150538])\n",
      "torch.Size([32, 3, 224, 224]) torch.Size([32, 10])\n",
      "torch.Size([32, 100])\n"
     ]
    }
   ],
   "source": [
    "model.eval()  \n",
    "with torch.no_grad():\n",
    "    for data in valid_data_loader:\n",
    "        print(data.size())\n",
    "        input_data = data[:, :-10] / 256.0\n",
    "        label_data = data[:, -10:]\n",
    "        input_data = input_data.reshape(-1, 3, 224, 224)\n",
    "\n",
    "        print(input_data.size(), label_data.size())\n",
    "\n",
    "        res = model(input_data, test_mode=True)\n",
    "        print(res.size())"
   ]
  },
  {
   "cell_type": "code",
   "execution_count": null,
   "id": "7047dfa3",
   "metadata": {},
   "outputs": [],
   "source": []
  }
 ],
 "metadata": {
  "kernelspec": {
   "display_name": "Python 3 (ipykernel)",
   "language": "python",
   "name": "python3"
  },
  "language_info": {
   "codemirror_mode": {
    "name": "ipython",
    "version": 3
   },
   "file_extension": ".py",
   "mimetype": "text/x-python",
   "name": "python",
   "nbconvert_exporter": "python",
   "pygments_lexer": "ipython3",
   "version": "3.9.7"
  }
 },
 "nbformat": 4,
 "nbformat_minor": 5
}
