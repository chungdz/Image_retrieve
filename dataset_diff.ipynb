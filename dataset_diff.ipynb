{
 "cells": [
  {
   "cell_type": "code",
   "execution_count": 1,
   "id": "c676f7ca-0361-4b1f-ae20-9cdc09f67967",
   "metadata": {},
   "outputs": [],
   "source": [
    "import numpy as np\n",
    "import json\n",
    "import argparse\n",
    "from torch.utils.data import DataLoader\n",
    "from datasets.dl import GeMData\n",
    "import torch\n",
    "import os\n",
    "from tqdm import tqdm, trange\n",
    "from matplotlib import pyplot as plt\n",
    "import collections\n",
    "import pandas as pd"
   ]
  },
  {
   "cell_type": "code",
   "execution_count": 2,
   "id": "7fc0106b-031d-48c8-b1fa-5ff3f61aba9a",
   "metadata": {},
   "outputs": [],
   "source": [
    "class cf:\n",
    "    def __init__(self):\n",
    "        self.dpath=\"ir\"\n",
    "        self.batch_size=1024\n",
    "        self.k=19\n",
    "        self.to_valid=\"valid_for_test.npy\"\n",
    "        self.to_test=\"test_masked.npy\"\n",
    "        self.test_matrix=\"tdatabase.npy\"\n",
    "args = cf()"
   ]
  },
  {
   "cell_type": "code",
   "execution_count": 3,
   "id": "6b0182cd-e9f9-4ba3-97a2-eb7787f44c79",
   "metadata": {},
   "outputs": [],
   "source": [
    "dbp = os.path.join(args.dpath, \"database.npy\")\n",
    "testp = os.path.join(args.dpath, args.to_test)\n",
    "validp = os.path.join(args.dpath, args.to_valid)\n",
    "imagep = os.path.join(args.dpath, args.test_matrix)\n",
    "classp = os.path.join(args.dpath, \"model_num.json\")\n",
    "resp = os.path.join(args.dpath, \"mAP.json\")\n",
    "validip = os.path.join(args.dpath, \"imageset.npy\")\n",
    "testip = os.path.join(args.dpath, \"test_image.npy\")\n",
    "indexinfop = os.path.join(args.dpath, \"indexinfo.csv\")\n",
    "mask2p = os.path.join(args.dpath, \"mask2.npy\")"
   ]
  },
  {
   "cell_type": "code",
   "execution_count": 4,
   "id": "46ecf320-ca4f-4400-81c2-30272f5422b0",
   "metadata": {},
   "outputs": [
    {
     "name": "stdout",
     "output_type": "stream",
     "text": [
      "load data\n"
     ]
    }
   ],
   "source": [
    "print('load data')\n",
    "md = json.load(open(classp, \"r\"))\n",
    "m2 = torch.LongTensor(np.load(mask2p)).to(0)\n",
    "fdf = pd.read_csv(indexinfop)\n",
    "\n",
    "test_imm = torch.FloatTensor(np.load(imagep)).to(0)\n",
    "valid_imm = torch.FloatTensor(np.load(dbp)).to(0)\n",
    "\n",
    "testset = np.load(testp)\n",
    "validset = np.load(validp)\n",
    "\n",
    "db_tensor = valid_imm.transpose(1, 0).to(0)"
   ]
  },
  {
   "cell_type": "code",
   "execution_count": 5,
   "id": "b539e452-f99d-43a5-9a26-ac2059f8e9f5",
   "metadata": {},
   "outputs": [],
   "source": [
    "vdict = {}\n",
    "for pic_index, carm_index in fdf.values:\n",
    "    vdict[pic_index] = carm_index\n",
    "tdict = {}\n",
    "for pic_index, carm_index in testset:\n",
    "    tdict[pic_index] = carm_index"
   ]
  },
  {
   "cell_type": "code",
   "execution_count": 6,
   "id": "73dbc620-2a1c-4ceb-9bba-506f2615f077",
   "metadata": {},
   "outputs": [],
   "source": [
    "validi = np.load(validip).transpose(0, 2, 3, 1)\n",
    "testi = np.load(testip).transpose(0, 2, 3, 1)"
   ]
  },
  {
   "cell_type": "code",
   "execution_count": 7,
   "id": "29f2fd34-7368-4b68-a6c6-d938e496ec9f",
   "metadata": {},
   "outputs": [],
   "source": [
    "idxset = set(validset[:, 0])\n",
    "mask = np.ones((1, valid_imm.size(0)))\n",
    "for i in range(valid_imm.size(0)):\n",
    "    if i in idxset:\n",
    "        mask[0, i] = 0\n",
    "mask = torch.LongTensor(mask).to(0)"
   ]
  },
  {
   "cell_type": "code",
   "execution_count": 8,
   "id": "d23d66c3-a629-4464-b0aa-2b52187aa05f",
   "metadata": {},
   "outputs": [],
   "source": [
    "testset_inverse = collections.defaultdict(list)\n",
    "for testid, cm in testset:\n",
    "    testset_inverse[cm].append(testid)"
   ]
  },
  {
   "cell_type": "code",
   "execution_count": 9,
   "id": "4b2dc64d-4d7c-4231-91eb-1b5e7a5c7f18",
   "metadata": {},
   "outputs": [],
   "source": [
    "validset_inverse = collections.defaultdict(list)\n",
    "for validid, cm in validset:\n",
    "    validset_inverse[cm].append(validid)"
   ]
  },
  {
   "cell_type": "code",
   "execution_count": 10,
   "id": "b7686255-72da-484e-8ad1-08453d7eb8ea",
   "metadata": {},
   "outputs": [
    {
     "data": {
      "text/plain": [
       "0.2933070866141732"
      ]
     },
     "execution_count": 10,
     "metadata": {},
     "output_type": "execute_result"
    }
   ],
   "source": [
    "a = set(testset_inverse.keys())\n",
    "b = set(validset_inverse.keys())\n",
    "c = a & b\n",
    "d = a | b\n",
    "len(c) / len(d)"
   ]
  },
  {
   "cell_type": "code",
   "execution_count": 11,
   "id": "3201bc93-50dc-481a-b980-4d18a9bdc825",
   "metadata": {},
   "outputs": [],
   "source": [
    "interlist = list(c)"
   ]
  },
  {
   "cell_type": "code",
   "execution_count": 15,
   "id": "914eafba-0d50-4263-9c19-22c9d5b44ba1",
   "metadata": {},
   "outputs": [],
   "source": [
    "def show_retrieved_query(cur_idx, isValid=False):\n",
    "    if isValid:\n",
    "        cur_cm = vdict[cur_idx]\n",
    "        curm = valid_imm\n",
    "        curi = validi\n",
    "    else:\n",
    "        cur_cm = tdict[cur_idx]\n",
    "        curm = test_imm\n",
    "        curi = testi\n",
    "    \n",
    "    cur_score = torch.matmul(curm[cur_idx], db_tensor)\n",
    "    if isValid:\n",
    "        cur_score = (cur_score * mask * m2).reshape(-1)\n",
    "    else:\n",
    "        cur_score = (cur_score * m2).reshape(-1)\n",
    "    _, topk = torch.topk(cur_score, args.k)\n",
    "    topkl = topk.cpu().numpy()\n",
    "    topk_imgs = validi[topkl]\n",
    "    label_list = [cur_idx] + topkl.tolist()\n",
    "    print(label_list)\n",
    "    label_list = [x in md[str(cur_cm)] for x in label_list]\n",
    "    final_imgs = np.concatenate([curi[cur_idx].reshape(1, 224, 224, 3), topk_imgs], axis=0)\n",
    "    f, axarr = plt.subplots(4, 5, figsize=(20, 20))\n",
    "    print(label_list)\n",
    "    for i in range(4):\n",
    "        for j in range(5):\n",
    "            cur_idx = i * 5 + j\n",
    "            axarr[i][j].imshow(final_imgs[cur_idx])\n",
    "            axarr[i][j].title.set_text(\"label: {}\".format(label_list[cur_idx]))\n",
    "            if cur_idx == 0:\n",
    "                axarr[i][j].title.set_text(\"origin query\")\n",
    "    plt.show()"
   ]
  },
  {
   "cell_type": "code",
   "execution_count": 18,
   "id": "2c498544-5351-4d37-8467-8771d3cb0ae6",
   "metadata": {},
   "outputs": [],
   "source": [
    "# show_retrieved_query(38895, isValid=True)"
   ]
  },
  {
   "cell_type": "code",
   "execution_count": 19,
   "id": "1f8ab3a1-ec07-4ea4-8f31-d7003b37908c",
   "metadata": {},
   "outputs": [],
   "source": [
    "# show_retrieved_query(15881, isValid=False)"
   ]
  },
  {
   "cell_type": "code",
   "execution_count": null,
   "id": "35b2a3b5-14eb-4cdb-b862-37c8bd59c0dc",
   "metadata": {},
   "outputs": [],
   "source": []
  }
 ],
 "metadata": {
  "kernelspec": {
   "display_name": "myconda",
   "language": "python",
   "name": "myconda"
  },
  "language_info": {
   "codemirror_mode": {
    "name": "ipython",
    "version": 3
   },
   "file_extension": ".py",
   "mimetype": "text/x-python",
   "name": "python",
   "nbconvert_exporter": "python",
   "pygments_lexer": "ipython3",
   "version": "3.8.12"
  }
 },
 "nbformat": 4,
 "nbformat_minor": 5
}
