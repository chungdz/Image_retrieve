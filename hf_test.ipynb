{
 "cells": [
  {
   "cell_type": "code",
   "execution_count": 1,
   "id": "e2544fd1-33e6-4303-a921-bbdbf2a9b61c",
   "metadata": {},
   "outputs": [],
   "source": [
    "# Check https://huggingface.co/blog/fine-tune-vit for more information\n",
    "from datasets import load_dataset, load_metric\n",
    "import random\n",
    "from PIL import ImageDraw, ImageFont, Image\n",
    "from transformers import ViTFeatureExtractor, ViTForImageClassification, Trainer, TrainingArguments\n",
    "import torch\n",
    "import numpy as np\n",
    "import os"
   ]
  },
  {
   "cell_type": "code",
   "execution_count": 2,
   "id": "fa824ca7-a71f-46aa-aa9c-241a871a0081",
   "metadata": {},
   "outputs": [],
   "source": [
    "# select GPU before run anything, because Trainer will automatically use all GPU\n",
    "os.environ[\"CUDA_VISIBLE_DEVICES\"]=\"0, 1\""
   ]
  },
  {
   "cell_type": "code",
   "execution_count": 3,
   "id": "02e9fc9f-e4bb-4661-b505-f8f7fe91ab24",
   "metadata": {},
   "outputs": [
    {
     "data": {
      "text/plain": [
       "2"
      ]
     },
     "execution_count": 3,
     "metadata": {},
     "output_type": "execute_result"
    }
   ],
   "source": [
    "torch.cuda.device_count()"
   ]
  },
  {
   "cell_type": "code",
   "execution_count": 4,
   "id": "e73d4a0f-33b3-4484-8f4e-54a8220c9804",
   "metadata": {},
   "outputs": [
    {
     "name": "stderr",
     "output_type": "stream",
     "text": [
      "Using custom data configuration default\n",
      "Reusing dataset beans (/root/.cache/huggingface/datasets/beans/default/0.0.0/90c755fb6db1c0ccdad02e897a37969dbf070bed3755d4391e269ff70642d791)\n"
     ]
    },
    {
     "data": {
      "application/vnd.jupyter.widget-view+json": {
       "model_id": "fa1de1417dec48c4ba1df0f7fe325b36",
       "version_major": 2,
       "version_minor": 0
      },
      "text/plain": [
       "  0%|          | 0/3 [00:00<?, ?it/s]"
      ]
     },
     "metadata": {},
     "output_type": "display_data"
    }
   ],
   "source": [
    "ds = load_dataset('beans')"
   ]
  },
  {
   "cell_type": "code",
   "execution_count": 5,
   "id": "ebb5180b-2816-4d86-8a49-4f74c54441be",
   "metadata": {},
   "outputs": [],
   "source": [
    "# convert image into 1 * 3 * 224 * 224\n",
    "model_name_or_path = 'google/vit-base-patch16-224-in21k'\n",
    "feature_extractor = ViTFeatureExtractor.from_pretrained(model_name_or_path)"
   ]
  },
  {
   "cell_type": "code",
   "execution_count": 6,
   "id": "c3e68308-4803-40ec-8f79-22eb3cf6b72b",
   "metadata": {},
   "outputs": [],
   "source": [
    "def transform(example_batch):\n",
    "    # Take a list of PIL images and turn them to pixel values\n",
    "    inputs = feature_extractor([x for x in example_batch['image']], return_tensors='pt')\n",
    "\n",
    "    # Don't forget to include the labels!\n",
    "    inputs['labels'] = example_batch['labels']\n",
    "    return inputs"
   ]
  },
  {
   "cell_type": "code",
   "execution_count": 7,
   "id": "54b4465e-4e1a-432e-b5d1-19197eb21a70",
   "metadata": {},
   "outputs": [],
   "source": [
    "prepared_ds = ds.with_transform(transform)"
   ]
  },
  {
   "cell_type": "code",
   "execution_count": 8,
   "id": "baaa3395-b03b-4ccb-8ffd-7b4922caeab1",
   "metadata": {},
   "outputs": [
    {
     "data": {
      "text/plain": [
       "{'pixel_values': tensor([[[[-0.4510, -0.4745, -0.4902,  ...,  0.4824,  0.4745,  0.3490],\n",
       "          [-0.4039, -0.4510, -0.4745,  ...,  0.3176,  0.3333,  0.2863],\n",
       "          [-0.2627, -0.2863, -0.3020,  ...,  0.1843,  0.2471,  0.2314],\n",
       "          ...,\n",
       "          [ 0.6706,  0.6706,  0.6706,  ...,  0.1216,  0.0980,  0.0353],\n",
       "          [ 0.6627,  0.6627,  0.6627,  ...,  0.1373,  0.1059,  0.0510],\n",
       "          [ 0.6078,  0.6392,  0.6549,  ...,  0.1294,  0.1059, -0.0039]],\n",
       "\n",
       "         [[-0.6549, -0.6941, -0.6941,  ...,  0.1765,  0.1686,  0.0353],\n",
       "          [-0.4745, -0.5765, -0.6471,  ...,  0.0039,  0.0196, -0.0275],\n",
       "          [-0.2000, -0.2706, -0.3412,  ..., -0.1529, -0.0902, -0.1059],\n",
       "          ...,\n",
       "          [ 0.1843,  0.1843,  0.1686,  ..., -0.0353, -0.0039, -0.0275],\n",
       "          [ 0.1608,  0.1686,  0.1608,  ..., -0.1216, -0.1137, -0.1059],\n",
       "          [ 0.0980,  0.1373,  0.1608,  ..., -0.1529, -0.1373, -0.1765]],\n",
       "\n",
       "         [[-0.8588, -0.8667, -0.8667,  ...,  0.0588,  0.0824, -0.0510],\n",
       "          [-0.8431, -0.8667, -0.8667,  ..., -0.1451, -0.0980, -0.1373],\n",
       "          [-0.6941, -0.7098, -0.7176,  ..., -0.2784, -0.2157, -0.2235],\n",
       "          ...,\n",
       "          [ 0.3490,  0.3490,  0.3333,  ..., -0.1451, -0.1373, -0.1843],\n",
       "          [ 0.3176,  0.3333,  0.3333,  ..., -0.1686, -0.1843, -0.2078],\n",
       "          [ 0.2549,  0.2941,  0.3255,  ..., -0.2000, -0.2078, -0.2784]]],\n",
       "\n",
       "\n",
       "        [[[ 0.2314,  0.2157,  0.1686,  ..., -0.2784, -0.0824, -0.0980],\n",
       "          [ 0.2941,  0.2471,  0.1686,  ..., -0.2549, -0.1529, -0.3020],\n",
       "          [ 0.3804,  0.3098,  0.1608,  ..., -0.3255, -0.4118, -0.6235],\n",
       "          ...,\n",
       "          [-0.2941, -0.3333, -0.4039,  ..., -0.2471, -0.1843, -0.0510],\n",
       "          [-0.4039, -0.3020, -0.2627,  ..., -0.3333, -0.3333, -0.0980],\n",
       "          [-0.5294, -0.4980, -0.4510,  ..., -0.3647, -0.3569, -0.2314]],\n",
       "\n",
       "         [[ 0.2706,  0.2627,  0.2392,  ..., -0.1765,  0.0353,  0.0275],\n",
       "          [ 0.3412,  0.3098,  0.2392,  ..., -0.1765, -0.0745, -0.2314],\n",
       "          [ 0.4353,  0.3804,  0.2471,  ..., -0.2863, -0.4039, -0.6314],\n",
       "          ...,\n",
       "          [ 0.0196,  0.0039, -0.0902,  ...,  0.1059,  0.1529,  0.2706],\n",
       "          [-0.0824,  0.0275,  0.0431,  ...,  0.0275,  0.0196,  0.2392],\n",
       "          [-0.1922, -0.1686, -0.1294,  ...,  0.0039,  0.0039,  0.1137]],\n",
       "\n",
       "         [[-0.1922, -0.2157, -0.2627,  ..., -0.5373, -0.3020, -0.2784],\n",
       "          [-0.1059, -0.1608, -0.2549,  ..., -0.5373, -0.3961, -0.5137],\n",
       "          [-0.0039, -0.0980, -0.2706,  ..., -0.6235, -0.6706, -0.8431],\n",
       "          ...,\n",
       "          [-0.2392, -0.3176, -0.4431,  ..., -0.1216, -0.0667,  0.0588],\n",
       "          [-0.4275, -0.3333, -0.3098,  ..., -0.1843, -0.2000,  0.0275],\n",
       "          [-0.6078, -0.5686, -0.5059,  ..., -0.2078, -0.2157, -0.1059]]]]), 'labels': [2, 2]}"
      ]
     },
     "execution_count": 8,
     "metadata": {},
     "output_type": "execute_result"
    }
   ],
   "source": [
    "# dataset\n",
    "prepared_ds['train'][0:2]"
   ]
  },
  {
   "cell_type": "code",
   "execution_count": 9,
   "id": "f0c4c584-2843-4642-9c88-42abdb531aec",
   "metadata": {},
   "outputs": [],
   "source": [
    "def collate_fn(batch):\n",
    "    return {\n",
    "        'pixel_values': torch.stack([x['pixel_values'] for x in batch]),\n",
    "        'labels': torch.tensor([x['labels'] for x in batch])\n",
    "    }"
   ]
  },
  {
   "cell_type": "code",
   "execution_count": 10,
   "id": "b4bcc8a2-e007-49f2-8fe6-d8ee57f59b93",
   "metadata": {},
   "outputs": [],
   "source": [
    "metric = load_metric(\"accuracy\")\n",
    "def compute_metrics(p):\n",
    "    return metric.compute(predictions=np.argmax(p.predictions, axis=1), references=p.label_ids)"
   ]
  },
  {
   "cell_type": "code",
   "execution_count": 11,
   "id": "0bb097a0-f344-4fda-adf6-30204a1001c4",
   "metadata": {},
   "outputs": [
    {
     "name": "stderr",
     "output_type": "stream",
     "text": [
      "Some weights of the model checkpoint at google/vit-base-patch16-224-in21k were not used when initializing ViTForImageClassification: ['pooler.dense.weight', 'pooler.dense.bias']\n",
      "- This IS expected if you are initializing ViTForImageClassification from the checkpoint of a model trained on another task or with another architecture (e.g. initializing a BertForSequenceClassification model from a BertForPreTraining model).\n",
      "- This IS NOT expected if you are initializing ViTForImageClassification from the checkpoint of a model that you expect to be exactly identical (initializing a BertForSequenceClassification model from a BertForSequenceClassification model).\n",
      "Some weights of ViTForImageClassification were not initialized from the model checkpoint at google/vit-base-patch16-224-in21k and are newly initialized: ['classifier.weight', 'classifier.bias']\n",
      "You should probably TRAIN this model on a down-stream task to be able to use it for predictions and inference.\n"
     ]
    }
   ],
   "source": [
    "labels = ds['train'].features['labels'].names\n",
    "\n",
    "model = ViTForImageClassification.from_pretrained(\n",
    "    model_name_or_path,\n",
    "    num_labels=len(labels),\n",
    "    id2label={str(i): c for i, c in enumerate(labels)},\n",
    "    label2id={c: str(i) for i, c in enumerate(labels)}\n",
    ")"
   ]
  },
  {
   "cell_type": "code",
   "execution_count": 12,
   "id": "e8cb2259-2999-4c2e-9e19-99ab3f91e918",
   "metadata": {},
   "outputs": [
    {
     "data": {
      "text/plain": [
       "{'0': 'angular_leaf_spot', '1': 'bean_rust', '2': 'healthy'}"
      ]
     },
     "execution_count": 12,
     "metadata": {},
     "output_type": "execute_result"
    }
   ],
   "source": [
    "# The other arguments are in the model.config\n",
    "model.config.id2label"
   ]
  },
  {
   "cell_type": "code",
   "execution_count": 13,
   "id": "bf6a6018-2cd7-4b79-b604-cd79311581f0",
   "metadata": {},
   "outputs": [],
   "source": [
    "# epoch 50\n",
    "# evaluate and save per 64 step\n",
    "# can change to epoch if save_strategy=\"epoch\" and evaluation_strategy=\"epoch\"\n",
    "# save all checkpoints in ./cp\n",
    "training_args = TrainingArguments(\n",
    "  output_dir=\"./cp\",\n",
    "  per_device_train_batch_size=64,\n",
    "  dataloader_num_workers=16,\n",
    "  evaluation_strategy=\"steps\",\n",
    "  num_train_epochs=50,\n",
    "  fp16=True,\n",
    "  save_steps=100,\n",
    "  eval_steps=100,\n",
    "  logging_steps=10,\n",
    "  learning_rate=2e-4,\n",
    "  save_total_limit=20,\n",
    "  remove_unused_columns=False,\n",
    "  push_to_hub=False,\n",
    "  report_to='tensorboard',\n",
    "  load_best_model_at_end=True,\n",
    ")"
   ]
  },
  {
   "cell_type": "code",
   "execution_count": 14,
   "id": "fdb27b96-d934-42c3-af18-35e5ac312d01",
   "metadata": {},
   "outputs": [
    {
     "name": "stderr",
     "output_type": "stream",
     "text": [
      "Using amp half precision backend\n"
     ]
    }
   ],
   "source": [
    "# as data is already prepared, extractor is not needed\n",
    "trainer = Trainer(\n",
    "    model=model,\n",
    "    args=training_args,\n",
    "    data_collator=collate_fn,\n",
    "    compute_metrics=compute_metrics,\n",
    "    train_dataset=prepared_ds[\"train\"],\n",
    "    eval_dataset=prepared_ds[\"validation\"],\n",
    "#     tokenizer=feature_extractor,\n",
    ")"
   ]
  },
  {
   "cell_type": "code",
   "execution_count": 15,
   "id": "163227ea-234b-4fb4-a079-9775e07f6ac3",
   "metadata": {},
   "outputs": [
    {
     "name": "stderr",
     "output_type": "stream",
     "text": [
      "/root/miniconda3/envs/myconda/lib/python3.8/site-packages/transformers/optimization.py:306: FutureWarning: This implementation of AdamW is deprecated and will be removed in a future version. Use the PyTorch implementation torch.optim.AdamW instead, or set `no_deprecation_warning=True` to disable this warning\n",
      "  warnings.warn(\n",
      "***** Running training *****\n",
      "  Num examples = 1034\n",
      "  Num Epochs = 50\n",
      "  Instantaneous batch size per device = 64\n",
      "  Total train batch size (w. parallel, distributed & accumulation) = 128\n",
      "  Gradient Accumulation steps = 1\n",
      "  Total optimization steps = 450\n",
      "/root/miniconda3/envs/myconda/lib/python3.8/site-packages/torch/nn/parallel/_functions.py:68: UserWarning: Was asked to gather along dimension 0, but all input tensors were scalars; will instead unsqueeze and return a vector.\n",
      "  warnings.warn('Was asked to gather along dimension 0, but all '\n"
     ]
    },
    {
     "data": {
      "text/html": [
       "\n",
       "    <div>\n",
       "      \n",
       "      <progress value='450' max='450' style='width:300px; height:20px; vertical-align: middle;'></progress>\n",
       "      [450/450 04:39, Epoch 50/50]\n",
       "    </div>\n",
       "    <table border=\"1\" class=\"dataframe\">\n",
       "  <thead>\n",
       " <tr style=\"text-align: left;\">\n",
       "      <th>Step</th>\n",
       "      <th>Training Loss</th>\n",
       "      <th>Validation Loss</th>\n",
       "      <th>Accuracy</th>\n",
       "    </tr>\n",
       "  </thead>\n",
       "  <tbody>\n",
       "    <tr>\n",
       "      <td>100</td>\n",
       "      <td>0.011300</td>\n",
       "      <td>0.065817</td>\n",
       "      <td>0.984962</td>\n",
       "    </tr>\n",
       "    <tr>\n",
       "      <td>200</td>\n",
       "      <td>0.005400</td>\n",
       "      <td>0.071564</td>\n",
       "      <td>0.984962</td>\n",
       "    </tr>\n",
       "    <tr>\n",
       "      <td>300</td>\n",
       "      <td>0.003700</td>\n",
       "      <td>0.076429</td>\n",
       "      <td>0.984962</td>\n",
       "    </tr>\n",
       "    <tr>\n",
       "      <td>400</td>\n",
       "      <td>0.003100</td>\n",
       "      <td>0.078705</td>\n",
       "      <td>0.984962</td>\n",
       "    </tr>\n",
       "  </tbody>\n",
       "</table><p>"
      ],
      "text/plain": [
       "<IPython.core.display.HTML object>"
      ]
     },
     "metadata": {},
     "output_type": "display_data"
    },
    {
     "name": "stderr",
     "output_type": "stream",
     "text": [
      "***** Running Evaluation *****\n",
      "  Num examples = 133\n",
      "  Batch size = 16\n",
      "Saving model checkpoint to ./cp/checkpoint-100\n",
      "Configuration saved in ./cp/checkpoint-100/config.json\n",
      "Model weights saved in ./cp/checkpoint-100/pytorch_model.bin\n",
      "/root/miniconda3/envs/myconda/lib/python3.8/site-packages/torch/nn/parallel/_functions.py:68: UserWarning: Was asked to gather along dimension 0, but all input tensors were scalars; will instead unsqueeze and return a vector.\n",
      "  warnings.warn('Was asked to gather along dimension 0, but all '\n",
      "***** Running Evaluation *****\n",
      "  Num examples = 133\n",
      "  Batch size = 16\n",
      "Saving model checkpoint to ./cp/checkpoint-200\n",
      "Configuration saved in ./cp/checkpoint-200/config.json\n",
      "Model weights saved in ./cp/checkpoint-200/pytorch_model.bin\n",
      "/root/miniconda3/envs/myconda/lib/python3.8/site-packages/torch/nn/parallel/_functions.py:68: UserWarning: Was asked to gather along dimension 0, but all input tensors were scalars; will instead unsqueeze and return a vector.\n",
      "  warnings.warn('Was asked to gather along dimension 0, but all '\n",
      "***** Running Evaluation *****\n",
      "  Num examples = 133\n",
      "  Batch size = 16\n",
      "Saving model checkpoint to ./cp/checkpoint-300\n",
      "Configuration saved in ./cp/checkpoint-300/config.json\n",
      "Model weights saved in ./cp/checkpoint-300/pytorch_model.bin\n",
      "/root/miniconda3/envs/myconda/lib/python3.8/site-packages/torch/nn/parallel/_functions.py:68: UserWarning: Was asked to gather along dimension 0, but all input tensors were scalars; will instead unsqueeze and return a vector.\n",
      "  warnings.warn('Was asked to gather along dimension 0, but all '\n",
      "***** Running Evaluation *****\n",
      "  Num examples = 133\n",
      "  Batch size = 16\n",
      "Saving model checkpoint to ./cp/checkpoint-400\n",
      "Configuration saved in ./cp/checkpoint-400/config.json\n",
      "Model weights saved in ./cp/checkpoint-400/pytorch_model.bin\n",
      "/root/miniconda3/envs/myconda/lib/python3.8/site-packages/torch/nn/parallel/_functions.py:68: UserWarning: Was asked to gather along dimension 0, but all input tensors were scalars; will instead unsqueeze and return a vector.\n",
      "  warnings.warn('Was asked to gather along dimension 0, but all '\n",
      "\n",
      "\n",
      "Training completed. Do not forget to share your model on huggingface.co/models =)\n",
      "\n",
      "\n",
      "Loading best model from ./cp/checkpoint-100 (score: 0.06581703573465347).\n"
     ]
    }
   ],
   "source": [
    "train_results = trainer.train()"
   ]
  },
  {
   "cell_type": "code",
   "execution_count": 16,
   "id": "9b97214a-71a8-4224-8499-f839ed273f10",
   "metadata": {},
   "outputs": [
    {
     "name": "stderr",
     "output_type": "stream",
     "text": [
      "Saving model checkpoint to ./cp\n",
      "Configuration saved in ./cp/config.json\n",
      "Model weights saved in ./cp/pytorch_model.bin\n"
     ]
    }
   ],
   "source": [
    "trainer.save_model()"
   ]
  },
  {
   "cell_type": "code",
   "execution_count": 17,
   "id": "96da42bc-0e33-4ce1-9754-0341ae9ba17f",
   "metadata": {},
   "outputs": [
    {
     "name": "stdout",
     "output_type": "stream",
     "text": [
      "***** train metrics *****\n",
      "  epoch                    =         50.0\n",
      "  total_flos               = 3731224472GF\n",
      "  train_loss               =       0.0279\n",
      "  train_runtime            =   0:04:47.10\n",
      "  train_samples_per_second =      180.072\n",
      "  train_steps_per_second   =        1.567\n"
     ]
    }
   ],
   "source": [
    "trainer.log_metrics(\"train\", train_results.metrics)"
   ]
  },
  {
   "cell_type": "code",
   "execution_count": 18,
   "id": "4f4d7375-0848-477f-bdff-99e0bc866271",
   "metadata": {},
   "outputs": [],
   "source": [
    "# save as all_results.json and train_results.json\n",
    "trainer.save_metrics(\"train\", train_results.metrics)"
   ]
  },
  {
   "cell_type": "code",
   "execution_count": 19,
   "id": "c8cb845d-0275-41d2-8b1c-e77f4e2ac927",
   "metadata": {},
   "outputs": [],
   "source": [
    "# save as trainer_state.json contains all arguments in trainer\n",
    "trainer.save_state()"
   ]
  },
  {
   "cell_type": "code",
   "execution_count": 21,
   "id": "6bf14b98-3517-4908-961a-ad5e2fa0f0ec",
   "metadata": {},
   "outputs": [
    {
     "name": "stderr",
     "output_type": "stream",
     "text": [
      "loading configuration file ./cp/config.json\n",
      "Model config ViTConfig {\n",
      "  \"_name_or_path\": \"google/vit-base-patch16-224-in21k\",\n",
      "  \"architectures\": [\n",
      "    \"ViTForImageClassification\"\n",
      "  ],\n",
      "  \"attention_probs_dropout_prob\": 0.0,\n",
      "  \"encoder_stride\": 16,\n",
      "  \"hidden_act\": \"gelu\",\n",
      "  \"hidden_dropout_prob\": 0.0,\n",
      "  \"hidden_size\": 768,\n",
      "  \"id2label\": {\n",
      "    \"0\": \"angular_leaf_spot\",\n",
      "    \"1\": \"bean_rust\",\n",
      "    \"2\": \"healthy\"\n",
      "  },\n",
      "  \"image_size\": 224,\n",
      "  \"initializer_range\": 0.02,\n",
      "  \"intermediate_size\": 3072,\n",
      "  \"label2id\": {\n",
      "    \"angular_leaf_spot\": \"0\",\n",
      "    \"bean_rust\": \"1\",\n",
      "    \"healthy\": \"2\"\n",
      "  },\n",
      "  \"layer_norm_eps\": 1e-12,\n",
      "  \"model_type\": \"vit\",\n",
      "  \"num_attention_heads\": 12,\n",
      "  \"num_channels\": 3,\n",
      "  \"num_hidden_layers\": 12,\n",
      "  \"patch_size\": 16,\n",
      "  \"problem_type\": \"single_label_classification\",\n",
      "  \"qkv_bias\": true,\n",
      "  \"torch_dtype\": \"float32\",\n",
      "  \"transformers_version\": \"4.19.2\"\n",
      "}\n",
      "\n",
      "loading weights file ./cp/pytorch_model.bin\n",
      "All model checkpoint weights were used when initializing ViTForImageClassification.\n",
      "\n",
      "All the weights of ViTForImageClassification were initialized from the model checkpoint at ./cp.\n",
      "If your task is similar to the task the model of the checkpoint was trained on, you can already use ViTForImageClassification for predictions without further training.\n",
      "loading configuration file ./cp/checkpoint-100/config.json\n",
      "Model config ViTConfig {\n",
      "  \"_name_or_path\": \"google/vit-base-patch16-224-in21k\",\n",
      "  \"architectures\": [\n",
      "    \"ViTForImageClassification\"\n",
      "  ],\n",
      "  \"attention_probs_dropout_prob\": 0.0,\n",
      "  \"encoder_stride\": 16,\n",
      "  \"hidden_act\": \"gelu\",\n",
      "  \"hidden_dropout_prob\": 0.0,\n",
      "  \"hidden_size\": 768,\n",
      "  \"id2label\": {\n",
      "    \"0\": \"angular_leaf_spot\",\n",
      "    \"1\": \"bean_rust\",\n",
      "    \"2\": \"healthy\"\n",
      "  },\n",
      "  \"image_size\": 224,\n",
      "  \"initializer_range\": 0.02,\n",
      "  \"intermediate_size\": 3072,\n",
      "  \"label2id\": {\n",
      "    \"angular_leaf_spot\": \"0\",\n",
      "    \"bean_rust\": \"1\",\n",
      "    \"healthy\": \"2\"\n",
      "  },\n",
      "  \"layer_norm_eps\": 1e-12,\n",
      "  \"model_type\": \"vit\",\n",
      "  \"num_attention_heads\": 12,\n",
      "  \"num_channels\": 3,\n",
      "  \"num_hidden_layers\": 12,\n",
      "  \"patch_size\": 16,\n",
      "  \"problem_type\": \"single_label_classification\",\n",
      "  \"qkv_bias\": true,\n",
      "  \"torch_dtype\": \"float32\",\n",
      "  \"transformers_version\": \"4.19.2\"\n",
      "}\n",
      "\n",
      "loading weights file ./cp/checkpoint-100/pytorch_model.bin\n",
      "All model checkpoint weights were used when initializing ViTForImageClassification.\n",
      "\n",
      "All the weights of ViTForImageClassification were initialized from the model checkpoint at ./cp/checkpoint-100/.\n",
      "If your task is similar to the task the model of the checkpoint was trained on, you can already use ViTForImageClassification for predictions without further training.\n"
     ]
    }
   ],
   "source": [
    "# load saved parameters\n",
    "model_final = ViTForImageClassification.from_pretrained(\"./cp\")\n",
    "model_first_100 = ViTForImageClassification.from_pretrained(\"./cp/checkpoint-100/\")"
   ]
  },
  {
   "cell_type": "code",
   "execution_count": 22,
   "id": "2466512e-7d23-4cec-937a-e424e6f941f5",
   "metadata": {},
   "outputs": [],
   "source": [
    "pretrained_model = torch.load(\"./cp/pytorch_model.bin\", map_location='cpu')"
   ]
  },
  {
   "cell_type": "code",
   "execution_count": 24,
   "id": "8b6ea0a9-3e46-48aa-95e0-55fd35117938",
   "metadata": {},
   "outputs": [
    {
     "name": "stdout",
     "output_type": "stream",
     "text": [
      "<All keys matched successfully>\n"
     ]
    }
   ],
   "source": [
    "# mannually load parameters\n",
    "# This one is for our own designed models\n",
    "print(model_final.load_state_dict(pretrained_model, strict=False))"
   ]
  },
  {
   "cell_type": "code",
   "execution_count": null,
   "id": "330be696-2f7a-4b06-8978-2da7805c4a1f",
   "metadata": {},
   "outputs": [],
   "source": []
  }
 ],
 "metadata": {
  "kernelspec": {
   "display_name": "myconda",
   "language": "python",
   "name": "myconda"
  },
  "language_info": {
   "codemirror_mode": {
    "name": "ipython",
    "version": 3
   },
   "file_extension": ".py",
   "mimetype": "text/x-python",
   "name": "python",
   "nbconvert_exporter": "python",
   "pygments_lexer": "ipython3",
   "version": "3.8.12"
  }
 },
 "nbformat": 4,
 "nbformat_minor": 5
}
