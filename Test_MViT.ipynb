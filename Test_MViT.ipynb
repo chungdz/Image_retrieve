{
 "cells": [
  {
   "cell_type": "code",
   "execution_count": 1,
   "id": "5fe42cc0",
   "metadata": {},
   "outputs": [
    {
     "name": "stderr",
     "output_type": "stream",
     "text": [
      "2022-05-18 19:25:21.366726: W tensorflow/stream_executor/platform/default/dso_loader.cc:64] Could not load dynamic library 'libcudart.so.11.0'; dlerror: libcudart.so.11.0: cannot open shared object file: No such file or directory\n",
      "2022-05-18 19:25:21.366775: I tensorflow/stream_executor/cuda/cudart_stub.cc:29] Ignore above cudart dlerror if you do not have a GPU set up on your machine.\n"
     ]
    }
   ],
   "source": [
    "from modules.gem import GeM\n",
    "import torch\n",
    "import torch.nn.functional as F\n",
    "import torch.nn as nn\n",
    "from tqdm import tqdm\n",
    "import numpy as np\n",
    "from utils.train_util import set_seed\n",
    "from torch.utils.data import DataLoader\n",
    "from datasets.dl import GeMData, GeMClass\n",
    "from datasets.config import GeMConfig, SwinConfig"
   ]
  },
  {
   "cell_type": "code",
   "execution_count": 2,
   "id": "d4def578",
   "metadata": {},
   "outputs": [
    {
     "name": "stdout",
     "output_type": "stream",
     "text": [
      "load MViT CLS\n",
      "load MViT trained parameters <All keys matched successfully>\n"
     ]
    }
   ],
   "source": [
    "mi = GeMConfig('cifar100')\n",
    "mi.set_arch('mvit')\n",
    "model = GeM(mi)"
   ]
  },
  {
   "cell_type": "code",
   "execution_count": 3,
   "id": "8f7ab28e",
   "metadata": {},
   "outputs": [],
   "source": [
    "# pic_matrix = torch.ByteTensor(np.load(\"data/imageset_small.npy\"))\n",
    "pic_matrix = torch.ByteTensor(np.random.randint(low=0, high=255, size=(256, 3, 224, 224)))\n",
    "dataset_img = torch.LongTensor(np.random.randint(low=0, high=256, size=(1280, 1)))\n",
    "dataset_label = torch.LongTensor(np.random.randint(low=0, high=100, size=(1280, 1)))"
   ]
  },
  {
   "cell_type": "code",
   "execution_count": 4,
   "id": "dad8fd6d",
   "metadata": {},
   "outputs": [],
   "source": [
    "train_dataset = GeMClass(pic_matrix, torch.cat([dataset_img, dataset_label], dim=-1))\n",
    "train_data_loader = DataLoader(train_dataset, batch_size=8, shuffle=True)\n",
    "# input_label = torch.zeros((32), dtype=torch.long).to(0)\n",
    "input_label = torch.randint(low=0, high=100, size=(32, 1)).reshape(-1)"
   ]
  },
  {
   "cell_type": "code",
   "execution_count": 5,
   "id": "8269d3ec",
   "metadata": {},
   "outputs": [],
   "source": [
    "optimizer = torch.optim.AdamW(params=model.parameters(), lr=5e-4)"
   ]
  },
  {
   "cell_type": "code",
   "execution_count": null,
   "id": "20609841",
   "metadata": {},
   "outputs": [
    {
     "name": "stderr",
     "output_type": "stream",
     "text": [
      "\r",
      "EP-0 train:   0%|                                                                                                                                          | 0/160 [00:00<?, ?it/s]"
     ]
    },
    {
     "name": "stdout",
     "output_type": "stream",
     "text": [
      "layer 0 torch.Size([8, 3137, 96]) [1, 56, 56]\n",
      "layer 1 torch.Size([8, 3137, 192]) [1, 56, 56]\n",
      "layer 2 torch.Size([8, 785, 192]) [1, 28, 28]\n",
      "layer 3 torch.Size([8, 785, 384]) [1, 28, 28]\n",
      "layer 4 torch.Size([8, 197, 384]) [1, 14, 14]\n",
      "layer 5 torch.Size([8, 197, 384]) [1, 14, 14]\n",
      "layer 6 torch.Size([8, 197, 384]) [1, 14, 14]\n",
      "layer 7 torch.Size([8, 197, 384]) [1, 14, 14]\n",
      "layer 8 torch.Size([8, 197, 384]) [1, 14, 14]\n",
      "layer 9 torch.Size([8, 197, 384]) [1, 14, 14]\n",
      "layer 10 torch.Size([8, 197, 384]) [1, 14, 14]\n",
      "layer 11 torch.Size([8, 197, 384]) [1, 14, 14]\n",
      "layer 12 torch.Size([8, 197, 384]) [1, 14, 14]\n",
      "layer 13 torch.Size([8, 197, 384]) [1, 14, 14]\n",
      "layer 14 torch.Size([8, 197, 768]) [1, 14, 14]\n",
      "layer 15 torch.Size([8, 50, 768]) [1, 7, 7]\n",
      "layer 16 torch.Size([8, 50, 768]) [1, 7, 7]\n"
     ]
    }
   ],
   "source": [
    "for epoch in range(2):\n",
    "    model.train()\n",
    "    model.zero_grad()\n",
    "    index = 0\n",
    "    steps_one_epoch = len(train_data_loader)\n",
    "    enum_dataloader = tqdm(train_data_loader, total=steps_one_epoch, desc=\"EP-{} train\".format(epoch))\n",
    "    loss_list = []\n",
    "    for data in enum_dataloader:\n",
    "    #     if index >= steps_one_epoch:\n",
    "    #         break\n",
    "\n",
    "        model_in = data[:, :-1] / 255.0\n",
    "#         pred = model.st(model_in.reshape(-1, 3, 224, 224))\n",
    "#         print(pred.size())\n",
    "        pred = model.predict_class(model_in, 224)\n",
    "        loss = F.cross_entropy(pred, data[:, -1])\n",
    "        loss_list.append(loss)\n",
    "\n",
    "        loss.backward()\n",
    "        optimizer.step()\n",
    "        model.zero_grad()\n",
    "\n",
    "        enum_dataloader.set_description(\"EP-{} train loss: {}\".format(epoch, loss))\n",
    "        enum_dataloader.refresh()\n",
    "        index += 1\n",
    "    \n",
    "    print('epoch {} end'.format(epoch))\n"
   ]
  },
  {
   "cell_type": "code",
   "execution_count": 9,
   "id": "00347eec",
   "metadata": {},
   "outputs": [
    {
     "name": "stdout",
     "output_type": "stream",
     "text": [
      "0 torch.Size([8, 3137, 96]) [1, 56, 56]\n",
      "1 torch.Size([8, 3137, 192]) [1, 56, 56]\n",
      "2 torch.Size([8, 785, 192]) [1, 28, 28]\n",
      "3 torch.Size([8, 785, 384]) [1, 28, 28]\n",
      "4 torch.Size([8, 197, 384]) [1, 14, 14]\n",
      "5 torch.Size([8, 197, 384]) [1, 14, 14]\n",
      "6 torch.Size([8, 197, 384]) [1, 14, 14]\n",
      "7 torch.Size([8, 197, 384]) [1, 14, 14]\n",
      "8 torch.Size([8, 197, 384]) [1, 14, 14]\n",
      "9 torch.Size([8, 197, 384]) [1, 14, 14]\n",
      "10 torch.Size([8, 197, 384]) [1, 14, 14]\n",
      "11 torch.Size([8, 197, 384]) [1, 14, 14]\n",
      "12 torch.Size([8, 197, 384]) [1, 14, 14]\n",
      "13 torch.Size([8, 197, 384]) [1, 14, 14]\n",
      "14 torch.Size([8, 197, 768]) [1, 14, 14]\n",
      "15 torch.Size([8, 50, 768]) [1, 7, 7]\n",
      "16 torch.Size([8, 50, 768]) [1, 7, 7]\n"
     ]
    }
   ],
   "source": [
    "for i, (pred, thw) in enumerate(preds):\n",
    "    print(i, pred.size(), thw)"
   ]
  },
  {
   "cell_type": "code",
   "execution_count": null,
   "id": "bd4fc261",
   "metadata": {},
   "outputs": [],
   "source": []
  },
  {
   "cell_type": "code",
   "execution_count": null,
   "id": "5f3c4b24",
   "metadata": {},
   "outputs": [],
   "source": []
  },
  {
   "cell_type": "code",
   "execution_count": null,
   "id": "5e02c214",
   "metadata": {},
   "outputs": [],
   "source": []
  }
 ],
 "metadata": {
  "kernelspec": {
   "display_name": "Python 3 (ipykernel)",
   "language": "python",
   "name": "python3"
  },
  "language_info": {
   "codemirror_mode": {
    "name": "ipython",
    "version": 3
   },
   "file_extension": ".py",
   "mimetype": "text/x-python",
   "name": "python",
   "nbconvert_exporter": "python",
   "pygments_lexer": "ipython3",
   "version": "3.9.7"
  }
 },
 "nbformat": 4,
 "nbformat_minor": 5
}
